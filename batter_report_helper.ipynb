{
 "cells": [
  {
   "cell_type": "code",
   "execution_count": 1,
   "metadata": {},
   "outputs": [],
   "source": [
    "import numpy as np\n",
    "import pandas as pd\n",
    "\n",
    "import matplotlib.pyplot as plt\n",
    "from matplotlib.patches import Rectangle\n",
    "import seaborn as sns\n",
    "\n",
    "import re"
   ]
  },
  {
   "cell_type": "code",
   "execution_count": null,
   "metadata": {},
   "outputs": [],
   "source": [
    "def convert_google_sheet_url(url):\n",
    "    # regular expression to match and capture the necessary part of the URL\n",
    "    pattern = r'https://docs\\.google\\.com/spreadsheets/d/([a-zA-Z0-9-_]+)(/edit#gid=(\\d+)|/edit.*)?'\n",
    "    # replace function to construct the new URL for CSV export\n",
    "    # if gid is present in the URL, it includes it in the export URL, otherwise, it's omitted\n",
    "    replacement = lambda m: f'https://docs.google.com/spreadsheets/d/{m.group(1)}/export?' + (f'gid={m.group(3)}&' if m.group(3) else '') + 'format=csv'\n",
    "    # replace using regex\n",
    "    new_url = re.sub(pattern, replacement, url)\n",
    "    return new_url\n",
    "\n",
    "game_data_2024_url = 'https://docs.google.com/spreadsheets/d/1F8GBPtLhugdO0pqrJe3O9fMPOYv3AqVRq8ouUZWZxIY/edit#gid=0'\n",
    "new_game_data_2024_url = convert_google_sheet_url(game_data_2024_url)\n",
    "game_data_2024 = pd.read_csv(new_game_data_2024_url)\n",
    "\n",
    "game_data_2023_url = 'https://docs.google.com/spreadsheets/d/1F8GBPtLhugdO0pqrJe3O9fMPOYv3AqVRq8ouUZWZxIY/edit#gid=256452955'\n",
    "new_game_data_2023_url = convert_google_sheet_url(game_data_2023_url)\n",
    "game_data_2023 = pd.read_csv(new_game_data_2023_url)"
   ]
  },
  {
   "cell_type": "code",
   "execution_count": null,
   "metadata": {},
   "outputs": [],
   "source": [
    "game_data = pd.concat([game_data_2024, game_data_2023], ignore_index=True)"
   ]
  },
  {
   "cell_type": "code",
   "execution_count": null,
   "metadata": {},
   "outputs": [],
   "source": [
    "game_data['count'] = game_data['balls'].astype(str).str.cat(game_data['strikes'].astype(str), sep ='-')"
   ]
  },
  {
   "cell_type": "code",
   "execution_count": null,
   "metadata": {},
   "outputs": [],
   "source": [
    "game_data['count_advantage'] = 'neutral'\n",
    "game_data.loc[(game_data['count'] == '1.0-0.0') | (game_data['count'] == '2.0-0.0') | (game_data['count'] == '2.0-1.0') | (game_data['count'] == '3.0-0.0') | (game_data['count'] == '3.0-1.0'), 'count_advantage'] = 'batter'\n",
    "game_data.loc[(game_data['count'] == '0.0-1.0') | (game_data['count'] == '0.0-2.0') | (game_data['count'] == '1.0-2.0'), 'count_advantage'] = 'pitcher'"
   ]
  },
  {
   "cell_type": "code",
   "execution_count": null,
   "metadata": {},
   "outputs": [],
   "source": [
    "game_data['CH'] = game_data['pitch_type'] == 'CH'\n",
    "game_data['CH'] = game_data['CH'].replace({True: 1, False: 0})\n",
    "\n",
    "game_data['CU'] = game_data['pitch_type'] == 'CU'\n",
    "game_data['CU'] = game_data['CU'].replace({True: 1, False: 0})\n",
    "\n",
    "game_data['SL'] = game_data['pitch_type'] == 'SL'\n",
    "game_data['SL'] = game_data['SL'].replace({True: 1, False: 0})\n",
    "\n",
    "game_data['FF'] = game_data['pitch_type'] == 'FF'\n",
    "game_data['FF'] = game_data['FF'].replace({True: 1, False: 0})\n",
    "\n",
    "game_data['SI'] = game_data['pitch_type'] == 'SI'\n",
    "game_data['SI'] = game_data['SI'].replace({True: 1, False: 0})\n",
    "\n",
    "game_data['CR'] = game_data['pitch_type'] == 'CR'\n",
    "game_data['CR'] = game_data['CR'].replace({True: 1, False: 0})"
   ]
  },
  {
   "cell_type": "code",
   "execution_count": null,
   "metadata": {},
   "outputs": [],
   "source": [
    "game_data['FsB'] = game_data['pitch_type'].isin(['FF', 'FT', 'SI', 'FC'])\n",
    "game_data['FsB'] = game_data['FsB'].replace({True: 1, False: 0})\n",
    "\n",
    "game_data['OfS'] = game_data['pitch_type'].isin(['CH', 'CR', 'FS', 'FO'])\n",
    "game_data['OfS'] = game_data['OfS'].replace({True: 1, False: 0})\n",
    "\n",
    "game_data['BrB'] = game_data['pitch_type'].isin(['CU', 'SL', 'KC', 'ST', 'SV'])\n",
    "game_data['BrB'] = game_data['BrB'].replace({True: 1, False: 0})\n",
    "\n",
    "game_data['OtR'] = game_data['pitch_type'].isin(['PO', 'KN', 'SC'])\n",
    "game_data['OtR'] = game_data['OtR'].replace({True: 1, False: 0})"
   ]
  },
  {
   "cell_type": "code",
   "execution_count": null,
   "metadata": {},
   "outputs": [],
   "source": [
    "game_data['spray_angle'] = np.nan\n",
    "# use np.arctan2 then convert to degrees\n",
    "game_data.loc[(game_data['hc_x'].isna() == False) & (game_data['hc_y'].isna() == False), 'spray_angle'] = np.arctan2(game_data['hc_x'], game_data['hc_y']) * 180 / np.pi"
   ]
  },
  {
   "cell_type": "code",
   "execution_count": null,
   "metadata": {},
   "outputs": [],
   "source": [
    "game_data['hit_field_direction'] = None\n",
    "game_data.loc[(game_data['spray_angle'] >= 105) | (game_data['spray_angle'] <= -90), 'hit_field_direction'] = 'left'\n",
    "game_data.loc[(game_data['spray_angle'] < 105) & (game_data['spray_angle'] > 75), 'hit_field_direction'] = 'center'\n",
    "game_data.loc[(game_data['spray_angle'] <= 75) | ((game_data['spray_angle'] < 0) & (game_data['spray_angle'] > -90)), 'hit_field_direction'] = 'right'"
   ]
  },
  {
   "cell_type": "code",
   "execution_count": null,
   "metadata": {},
   "outputs": [],
   "source": [
    "game_data['hit_direction'] = None\n",
    "game_data.loc[game_data['hit_field_direction'] == 'center'] = 'cent'\n",
    "game_data.loc[((game_data['stand'] == 'R') & (game_data['hit_field_direction'] == 'left')) | ((game_data['stand'] == 'L') & (game_data['hit_field_direction'] == 'right')), 'hit_direction'] = 'pull'\n",
    "game_data.loc[((game_data['stand'] == 'L') & (game_data['hit_field_direction'] == 'left')) | ((game_data['stand'] == 'R') & (game_data['hit_field_direction'] == 'right')), 'hit_direction'] = 'oppo'"
   ]
  },
  {
   "cell_type": "code",
   "execution_count": null,
   "metadata": {},
   "outputs": [],
   "source": [
    "game_data['BIP'] = game_data['type'] == 'X'\n",
    "game_data['BIP'] = game_data['BIP'].replace({True: 1, False: 0})\n",
    "\n",
    "game_data['pull'] = game_data['hit_direction'] == 'pull'\n",
    "game_data['pull'] = game_data['pull'].replace({True: 1, False: 0})\n",
    "\n",
    "game_data['cent'] = game_data['hit_direction'] == 'cent'\n",
    "game_data['cent'] = game_data['cent'].replace({True: 1, False: 0})\n",
    "\n",
    "game_data['oppo'] = game_data['hit_direction'] == 'oppo'\n",
    "game_data['oppo'] = game_data['oppo'].replace({True: 1, False: 0})"
   ]
  }
 ],
 "metadata": {
  "kernelspec": {
   "display_name": "Python 3",
   "language": "python",
   "name": "python3"
  },
  "language_info": {
   "codemirror_mode": {
    "name": "ipython",
    "version": 3
   },
   "file_extension": ".py",
   "mimetype": "text/x-python",
   "name": "python",
   "nbconvert_exporter": "python",
   "pygments_lexer": "ipython3",
   "version": "3.11.3"
  }
 },
 "nbformat": 4,
 "nbformat_minor": 2
}
